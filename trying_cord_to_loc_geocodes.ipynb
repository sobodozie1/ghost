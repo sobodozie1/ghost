{
 "cells": [
  {
   "cell_type": "markdown",
   "id": "3fbf21b5",
   "metadata": {},
   "source": [
    "# Converting Cordinates to Actual Location (Cities, etc.)"
   ]
  },
  {
   "cell_type": "code",
   "execution_count": 1,
   "id": "7639557a",
   "metadata": {},
   "outputs": [],
   "source": [
    "import pandas as pd\n",
    "import geopy\n",
    "from geopy.geocoders import Nominatim as nt"
   ]
  },
  {
   "cell_type": "code",
   "execution_count": 2,
   "id": "9ef3073c",
   "metadata": {},
   "outputs": [],
   "source": [
    "df = pd.read_excel(\"snow1.xlsx\")"
   ]
  },
  {
   "cell_type": "code",
   "execution_count": null,
   "id": "91105967",
   "metadata": {},
   "outputs": [],
   "source": [
    "def get_country_state(lat, lng):\n",
    "    try:\n",
    "        location = geolocator.reverse((lat, lng), exactly_one=True)\n",
    "        if location is not None:\n",
    "            address = location.raw.get('address', {})\n",
    "            country = address.get('country', '')\n",
    "            state = address.get('state', '')\n",
    "            return f\"{country}, {state}\"\n",
    "    except:\n",
    "        pass\n",
    "    return \"\"\n",
    "df['Country_State'] = df.apply(lambda row: get_country_state(row['Latitude'], row['Longitude']), axis=1)\n",
    "print(df.head(3))"
   ]
  },
  {
   "cell_type": "code",
   "execution_count": 5,
   "id": "bb5f7126",
   "metadata": {},
   "outputs": [
    {
     "data": {
      "text/html": [
       "<div>\n",
       "<style scoped>\n",
       "    .dataframe tbody tr th:only-of-type {\n",
       "        vertical-align: middle;\n",
       "    }\n",
       "\n",
       "    .dataframe tbody tr th {\n",
       "        vertical-align: top;\n",
       "    }\n",
       "\n",
       "    .dataframe thead th {\n",
       "        text-align: right;\n",
       "    }\n",
       "</style>\n",
       "<table border=\"1\" class=\"dataframe\">\n",
       "  <thead>\n",
       "    <tr style=\"text-align: right;\">\n",
       "      <th></th>\n",
       "      <th>Month</th>\n",
       "      <th>Latitude</th>\n",
       "      <th>Longitude</th>\n",
       "      <th>Snow</th>\n",
       "      <th>Country_State</th>\n",
       "    </tr>\n",
       "  </thead>\n",
       "  <tbody>\n",
       "    <tr>\n",
       "      <th>0</th>\n",
       "      <td>2022-12-01</td>\n",
       "      <td>63.125</td>\n",
       "      <td>68.875</td>\n",
       "      <td>95.28</td>\n",
       "      <td></td>\n",
       "    </tr>\n",
       "    <tr>\n",
       "      <th>1</th>\n",
       "      <td>2022-12-01</td>\n",
       "      <td>63.125</td>\n",
       "      <td>69.125</td>\n",
       "      <td>100.00</td>\n",
       "      <td></td>\n",
       "    </tr>\n",
       "    <tr>\n",
       "      <th>2</th>\n",
       "      <td>2022-12-01</td>\n",
       "      <td>63.125</td>\n",
       "      <td>69.375</td>\n",
       "      <td>100.00</td>\n",
       "      <td></td>\n",
       "    </tr>\n",
       "    <tr>\n",
       "      <th>3</th>\n",
       "      <td>2022-12-01</td>\n",
       "      <td>63.125</td>\n",
       "      <td>69.625</td>\n",
       "      <td>100.00</td>\n",
       "      <td></td>\n",
       "    </tr>\n",
       "    <tr>\n",
       "      <th>4</th>\n",
       "      <td>2022-12-01</td>\n",
       "      <td>63.125</td>\n",
       "      <td>69.875</td>\n",
       "      <td>100.00</td>\n",
       "      <td></td>\n",
       "    </tr>\n",
       "  </tbody>\n",
       "</table>\n",
       "</div>"
      ],
      "text/plain": [
       "       Month  Latitude  Longitude    Snow Country_State\n",
       "0 2022-12-01    63.125     68.875   95.28              \n",
       "1 2022-12-01    63.125     69.125  100.00              \n",
       "2 2022-12-01    63.125     69.375  100.00              \n",
       "3 2022-12-01    63.125     69.625  100.00              \n",
       "4 2022-12-01    63.125     69.875  100.00              "
      ]
     },
     "execution_count": 5,
     "metadata": {},
     "output_type": "execute_result"
    }
   ],
   "source": [
    "df.head()"
   ]
  },
  {
   "cell_type": "code",
   "execution_count": 3,
   "id": "9601204d",
   "metadata": {},
   "outputs": [],
   "source": [
    "geolocator = nt(user_agent=\"my_app\")\n",
    "\n",
    "def get_country_state(lat, lng):\n",
    "    try:\n",
    "        location = geolocator.reverse(f\"{lat}, {lng}\", exactly_one=True)\n",
    "        if location is not None:\n",
    "            address = location.raw.get('address', {})\n",
    "            country = address.get('country', '')\n",
    "            state = address.get('state', '')\n",
    "            return f\"{country}, {state}\"\n",
    "    except:\n",
    "        pass\n",
    "    return \"\""
   ]
  },
  {
   "cell_type": "code",
   "execution_count": 6,
   "id": "9164be6d",
   "metadata": {},
   "outputs": [
    {
     "data": {
      "text/html": [
       "<div>\n",
       "<style scoped>\n",
       "    .dataframe tbody tr th:only-of-type {\n",
       "        vertical-align: middle;\n",
       "    }\n",
       "\n",
       "    .dataframe tbody tr th {\n",
       "        vertical-align: top;\n",
       "    }\n",
       "\n",
       "    .dataframe thead th {\n",
       "        text-align: right;\n",
       "    }\n",
       "</style>\n",
       "<table border=\"1\" class=\"dataframe\">\n",
       "  <thead>\n",
       "    <tr style=\"text-align: right;\">\n",
       "      <th></th>\n",
       "      <th>Month</th>\n",
       "      <th>Latitude</th>\n",
       "      <th>Longitude</th>\n",
       "      <th>Snow</th>\n",
       "    </tr>\n",
       "  </thead>\n",
       "  <tbody>\n",
       "    <tr>\n",
       "      <th>0</th>\n",
       "      <td>2022-12-01</td>\n",
       "      <td>63.125</td>\n",
       "      <td>68.875</td>\n",
       "      <td>95.28</td>\n",
       "    </tr>\n",
       "    <tr>\n",
       "      <th>1</th>\n",
       "      <td>2022-12-01</td>\n",
       "      <td>63.125</td>\n",
       "      <td>69.125</td>\n",
       "      <td>100.00</td>\n",
       "    </tr>\n",
       "    <tr>\n",
       "      <th>2</th>\n",
       "      <td>2022-12-01</td>\n",
       "      <td>63.125</td>\n",
       "      <td>69.375</td>\n",
       "      <td>100.00</td>\n",
       "    </tr>\n",
       "    <tr>\n",
       "      <th>3</th>\n",
       "      <td>2022-12-01</td>\n",
       "      <td>63.125</td>\n",
       "      <td>69.625</td>\n",
       "      <td>100.00</td>\n",
       "    </tr>\n",
       "    <tr>\n",
       "      <th>4</th>\n",
       "      <td>2022-12-01</td>\n",
       "      <td>63.125</td>\n",
       "      <td>69.875</td>\n",
       "      <td>100.00</td>\n",
       "    </tr>\n",
       "  </tbody>\n",
       "</table>\n",
       "</div>"
      ],
      "text/plain": [
       "       Month  Latitude  Longitude    Snow\n",
       "0 2022-12-01    63.125     68.875   95.28\n",
       "1 2022-12-01    63.125     69.125  100.00\n",
       "2 2022-12-01    63.125     69.375  100.00\n",
       "3 2022-12-01    63.125     69.625  100.00\n",
       "4 2022-12-01    63.125     69.875  100.00"
      ]
     },
     "execution_count": 6,
     "metadata": {},
     "output_type": "execute_result"
    }
   ],
   "source": [
    "df.head()"
   ]
  },
  {
   "cell_type": "code",
   "execution_count": null,
   "id": "67efea84",
   "metadata": {},
   "outputs": [],
   "source": []
  }
 ],
 "metadata": {
  "kernelspec": {
   "display_name": "Python 3 (ipykernel)",
   "language": "python",
   "name": "python3"
  },
  "language_info": {
   "codemirror_mode": {
    "name": "ipython",
    "version": 3
   },
   "file_extension": ".py",
   "mimetype": "text/x-python",
   "name": "python",
   "nbconvert_exporter": "python",
   "pygments_lexer": "ipython3",
   "version": "3.9.12"
  }
 },
 "nbformat": 4,
 "nbformat_minor": 5
}
