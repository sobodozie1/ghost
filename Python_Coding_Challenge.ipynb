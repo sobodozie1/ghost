{
 "cells": [
  {
   "cell_type": "markdown",
   "id": "984884f2",
   "metadata": {},
   "source": [
    "# Capital Indexes"
   ]
  },
  {
   "cell_type": "markdown",
   "id": "c4223ea2",
   "metadata": {},
   "source": [
    "Write a function named `capital_indexes`.\n",
    "\n",
    "The function takes a single parameter, which is a string.\n",
    "\n",
    "Your function should return a list of all the indexes in the string that have capital letters.\n",
    "\n",
    "For example, calling `capital_indexes(\"HeLlO\")` should return the list `[0, 2, 4]`"
   ]
  },
  {
   "cell_type": "markdown",
   "id": "66695f4a",
   "metadata": {},
   "source": [
    "<details>\n",
    "    <summary><b>Click here for Solution</b></summary>\n",
    "    <h3> Solution </h3>\n",
    "  ```def capital_indexes(x):\n",
    "    \n",
    "    result = []\n",
    "    \n",
    "    for i in range(len(x)):\n",
    "        if x[i].isupper():\n",
    "            result.append(i)\n",
    "    \n",
    "    return result\n",
    "  ```\n",
    "</details>"
   ]
  },
  {
   "cell_type": "markdown",
   "id": "817d9e75",
   "metadata": {},
   "source": [
    "# Middle letter"
   ]
  },
  {
   "cell_type": "markdown",
   "id": "570fd97b",
   "metadata": {},
   "source": [
    "Write a function named `mid` that takes a string as its parameter.\n",
    "\n",
    "Your function should extract and return the middle letter.\n",
    "\n",
    "If there is no middle letter, your function should return the empty string.\n",
    "\n",
    "For example, `mid(\"abc\")` should return `\"b\"` and `mid(\"aaaa\")` should return `\"\"`."
   ]
  },
  {
   "cell_type": "markdown",
   "id": "402fbd94",
   "metadata": {},
   "source": [
    "<details>\n",
    "    <summary><b>Click here for Solution</b></summary>\n",
    "    <h3> Solution </h3>\n",
    "  ```def mid(x):\n",
    "        if len(x) % 2 == 0:\n",
    "            return \"\"\n",
    "        else:\n",
    "            idx = len(x) // 2\n",
    "        return x[idx]\n",
    "  ```\n",
    "</details>"
   ]
  },
  {
   "cell_type": "markdown",
   "id": "5caa4ce2",
   "metadata": {},
   "source": [
    "# Online status"
   ]
  },
  {
   "cell_type": "markdown",
   "id": "07aa3706",
   "metadata": {},
   "source": [
    "The aim of this challenge is, given a dictionary of people's online status, to count the number of people who are online.\n",
    "\n",
    "For example, consider the following dictionary:\n",
    "```\n",
    "statuses = {\n",
    "    \"Alice\": \"online\",\n",
    "    \"Bob\": \"offline\",\n",
    "    \"Eve\": \"online\",\n",
    "}\n",
    "```\n",
    "\n",
    "In this case, the number of people online is 2.\n",
    "\n",
    "Write a function named `online_count` that takes one parameter.\n",
    "\n",
    "The parameter is a dictionary that maps from strings of names to the string `\"online\"` or `\"offline\"`, as seen above.\n",
    "\n",
    "Your function should return the number of people who are online."
   ]
  },
  {
   "cell_type": "markdown",
   "id": "5b0ddc0a",
   "metadata": {},
   "source": [
    "<details>\n",
    "    <summary><b>Click here for Solution</b></summary>\n",
    "    <h3> Solution </h3>\n",
    "  ```def online_count(x):\n",
    "        count = 0\n",
    "        for i in x.values():\n",
    "            if i == \"online\":\n",
    "                count += 1\n",
    "    \n",
    "        return count\n",
    "  ```\n",
    "</details>"
   ]
  },
  {
   "cell_type": "markdown",
   "id": "11c1cf4c",
   "metadata": {},
   "source": [
    "# Double letters"
   ]
  },
  {
   "cell_type": "markdown",
   "id": "a9ff171b",
   "metadata": {},
   "source": [
    "The goal of this challenge is to analyze a string to check if it contains two of the same letter in a row.\n",
    "\n",
    "For example, the string `\"hello\"` has l twice in a row, while the string `\"nono\"` does not have two identical letters in a row.\n",
    "\n",
    "Define a function named `double_letters` that takes a single parameter.\n",
    "\n",
    "The parameter is a string. Your function must return `True` if there are two identical letters in a row in the string, and `False` otherwise."
   ]
  },
  {
   "cell_type": "markdown",
   "id": "cff81679",
   "metadata": {},
   "source": [
    "<details>\n",
    "    <summary><b>Click here for Solution</b></summary>\n",
    "    <h3> Solution </h3>\n",
    "  ```def double_letters(x):\n",
    "    my_dict = {}\n",
    "    \n",
    "    for i in x:\n",
    "        if i not in my_dict:\n",
    "            my_dict[i] = 1\n",
    "        else:\n",
    "            my_dict[i] = my_dict.get(i) + 1\n",
    "    \n",
    "    result = False\n",
    "    for i in my_dict.values():\n",
    "        if i > 1:\n",
    "            result = True\n",
    "    return result\n",
    "  ```\n",
    "</details>"
   ]
  },
  {
   "cell_type": "markdown",
   "id": "01490b7c",
   "metadata": {},
   "source": [
    "# Anagrams"
   ]
  },
  {
   "cell_type": "markdown",
   "id": "71803a3b",
   "metadata": {},
   "source": [
    "Two strings are anagrams if you can make one from the other by rearranging the letters.\n",
    "\n",
    "Write a function named `is_anagram` that takes two strings as its parameters.\n",
    "\n",
    "Your function should return `True` if the strings are anagrams, and `False` otherwise.\n",
    "\n",
    "For example, the call `is_anagram(\"typhoon\", \"opython\")` should return `True` while the call `is_anagram(\"Alice\", \"Bob\")` should return `False`."
   ]
  },
  {
   "cell_type": "markdown",
   "id": "66a1dc5e",
   "metadata": {},
   "source": [
    "<details>\n",
    "    <summary><b>Click here for Solution</b></summary>\n",
    "    <h3> Solution </h3>\n",
    "  ```def is_anagram(x, y):\n",
    "        x = x.split()\n",
    "        y = y.split()\n",
    "        return sorted(x) == sorted(y)\n",
    "  ```\n",
    "</details>"
   ]
  }
 ],
 "metadata": {
  "kernelspec": {
   "display_name": "Python 3 (ipykernel)",
   "language": "python",
   "name": "python3"
  },
  "language_info": {
   "codemirror_mode": {
    "name": "ipython",
    "version": 3
   },
   "file_extension": ".py",
   "mimetype": "text/x-python",
   "name": "python",
   "nbconvert_exporter": "python",
   "pygments_lexer": "ipython3",
   "version": "3.9.12"
  }
 },
 "nbformat": 4,
 "nbformat_minor": 5
}
