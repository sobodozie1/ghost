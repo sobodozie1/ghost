{
 "cells": [
  {
   "cell_type": "code",
   "execution_count": 1,
   "id": "829bf239",
   "metadata": {},
   "outputs": [],
   "source": [
    "import pandas as pd\n",
    "import matplotlib.pyplot as plt"
   ]
  },
  {
   "cell_type": "code",
   "execution_count": 2,
   "id": "04a221a0",
   "metadata": {},
   "outputs": [
    {
     "ename": "NameError",
     "evalue": "name 'end' is not defined",
     "output_type": "error",
     "traceback": [
      "\u001b[1;31m---------------------------------------------------------------------------\u001b[0m",
      "\u001b[1;31mNameError\u001b[0m                                 Traceback (most recent call last)",
      "Input \u001b[1;32mIn [2]\u001b[0m, in \u001b[0;36m<cell line: 1>\u001b[1;34m()\u001b[0m\n\u001b[1;32m----> 1\u001b[0m \u001b[43mend\u001b[49m\n",
      "\u001b[1;31mNameError\u001b[0m: name 'end' is not defined"
     ]
    }
   ],
   "source": []
  },
  {
   "cell_type": "code",
   "execution_count": 2,
   "id": "8f5642c8",
   "metadata": {},
   "outputs": [],
   "source": [
    "oly = pd.read_excel(\"Olympic_data2.xlsx\")(\"C:\\Users\\sobod\\OneDrive\\Desktop\\2023 Polls_main.xlsx\")"
   ]
  },
  {
   "cell_type": "code",
   "execution_count": 3,
   "id": "501a1689",
   "metadata": {},
   "outputs": [
    {
     "data": {
      "text/plain": [
       "ID                     1\n",
       "Name                   0\n",
       "Sex                    0\n",
       "Age                    0\n",
       "Height             51574\n",
       "Weight             54263\n",
       "Team                   0\n",
       "NOC                    0\n",
       "Origin Country       356\n",
       "Games                  0\n",
       "Year                   0\n",
       "Season                 0\n",
       "City                   0\n",
       "Sport                  0\n",
       "Event                  0\n",
       "Medal             222591\n",
       "Unnamed: 16       261642\n",
       "Unnamed: 17       261495\n",
       "Unnamed: 18       261495\n",
       "dtype: int64"
      ]
     },
     "execution_count": 3,
     "metadata": {},
     "output_type": "execute_result"
    }
   ],
   "source": [
    "oly.isnull().sum()"
   ]
  },
  {
   "cell_type": "code",
   "execution_count": 4,
   "id": "98292cf5",
   "metadata": {},
   "outputs": [
    {
     "data": {
      "text/html": [
       "<div>\n",
       "<style scoped>\n",
       "    .dataframe tbody tr th:only-of-type {\n",
       "        vertical-align: middle;\n",
       "    }\n",
       "\n",
       "    .dataframe tbody tr th {\n",
       "        vertical-align: top;\n",
       "    }\n",
       "\n",
       "    .dataframe thead th {\n",
       "        text-align: right;\n",
       "    }\n",
       "</style>\n",
       "<table border=\"1\" class=\"dataframe\">\n",
       "  <thead>\n",
       "    <tr style=\"text-align: right;\">\n",
       "      <th></th>\n",
       "      <th>ID</th>\n",
       "      <th>Name</th>\n",
       "      <th>Sex</th>\n",
       "      <th>Age</th>\n",
       "      <th>Height</th>\n",
       "      <th>Weight</th>\n",
       "      <th>Team</th>\n",
       "      <th>NOC</th>\n",
       "      <th>Origin Country</th>\n",
       "      <th>Games</th>\n",
       "      <th>Year</th>\n",
       "      <th>Season</th>\n",
       "      <th>City</th>\n",
       "      <th>Sport</th>\n",
       "      <th>Event</th>\n",
       "      <th>Medal</th>\n",
       "      <th>Unnamed: 16</th>\n",
       "      <th>Unnamed: 17</th>\n",
       "      <th>Unnamed: 18</th>\n",
       "    </tr>\n",
       "  </thead>\n",
       "  <tbody>\n",
       "    <tr>\n",
       "      <th>0</th>\n",
       "      <td>1.0</td>\n",
       "      <td>A Dijiang</td>\n",
       "      <td>M</td>\n",
       "      <td>24</td>\n",
       "      <td>180.0</td>\n",
       "      <td>80.0</td>\n",
       "      <td>China</td>\n",
       "      <td>CHN</td>\n",
       "      <td>China</td>\n",
       "      <td>1992 Summer</td>\n",
       "      <td>1992</td>\n",
       "      <td>Summer</td>\n",
       "      <td>Barcelona</td>\n",
       "      <td>Basketball</td>\n",
       "      <td>Basketball Men's Basketball</td>\n",
       "      <td>NaN</td>\n",
       "      <td>NaN</td>\n",
       "      <td>NOC</td>\n",
       "      <td>region</td>\n",
       "    </tr>\n",
       "    <tr>\n",
       "      <th>1</th>\n",
       "      <td>2.0</td>\n",
       "      <td>A Lamusi</td>\n",
       "      <td>M</td>\n",
       "      <td>23</td>\n",
       "      <td>170.0</td>\n",
       "      <td>60.0</td>\n",
       "      <td>China</td>\n",
       "      <td>CHN</td>\n",
       "      <td>China</td>\n",
       "      <td>2012 Summer</td>\n",
       "      <td>2012</td>\n",
       "      <td>Summer</td>\n",
       "      <td>London</td>\n",
       "      <td>Judo</td>\n",
       "      <td>Judo Men's Extra-Lightweight</td>\n",
       "      <td>NaN</td>\n",
       "      <td>NaN</td>\n",
       "      <td>AFG</td>\n",
       "      <td>Afghanistan</td>\n",
       "    </tr>\n",
       "    <tr>\n",
       "      <th>2</th>\n",
       "      <td>3.0</td>\n",
       "      <td>Gunnar Nielsen Aaby</td>\n",
       "      <td>M</td>\n",
       "      <td>24</td>\n",
       "      <td>NaN</td>\n",
       "      <td>NaN</td>\n",
       "      <td>Denmark</td>\n",
       "      <td>DEN</td>\n",
       "      <td>Denmark</td>\n",
       "      <td>1920 Summer</td>\n",
       "      <td>1920</td>\n",
       "      <td>Summer</td>\n",
       "      <td>Antwerpen</td>\n",
       "      <td>Football</td>\n",
       "      <td>Football Men's Football</td>\n",
       "      <td>NaN</td>\n",
       "      <td>NaN</td>\n",
       "      <td>AHO</td>\n",
       "      <td>Curacao</td>\n",
       "    </tr>\n",
       "    <tr>\n",
       "      <th>3</th>\n",
       "      <td>4.0</td>\n",
       "      <td>Edgar Lindenau Aabye</td>\n",
       "      <td>M</td>\n",
       "      <td>34</td>\n",
       "      <td>NaN</td>\n",
       "      <td>NaN</td>\n",
       "      <td>Denmark/Sweden</td>\n",
       "      <td>DEN</td>\n",
       "      <td>Denmark</td>\n",
       "      <td>1900 Summer</td>\n",
       "      <td>1900</td>\n",
       "      <td>Summer</td>\n",
       "      <td>Paris</td>\n",
       "      <td>Tug-Of-War</td>\n",
       "      <td>Tug-Of-War Men's Tug-Of-War</td>\n",
       "      <td>Gold</td>\n",
       "      <td>NaN</td>\n",
       "      <td>ALB</td>\n",
       "      <td>Albania</td>\n",
       "    </tr>\n",
       "    <tr>\n",
       "      <th>4</th>\n",
       "      <td>5.0</td>\n",
       "      <td>Christine Jacoba Aaftink</td>\n",
       "      <td>F</td>\n",
       "      <td>21</td>\n",
       "      <td>185.0</td>\n",
       "      <td>82.0</td>\n",
       "      <td>Netherlands</td>\n",
       "      <td>NED</td>\n",
       "      <td>Netherlands</td>\n",
       "      <td>1988 Winter</td>\n",
       "      <td>1988</td>\n",
       "      <td>Winter</td>\n",
       "      <td>Calgary</td>\n",
       "      <td>Speed Skating</td>\n",
       "      <td>Speed Skating Women's 500 metres</td>\n",
       "      <td>NaN</td>\n",
       "      <td>NaN</td>\n",
       "      <td>ALG</td>\n",
       "      <td>Algeria</td>\n",
       "    </tr>\n",
       "  </tbody>\n",
       "</table>\n",
       "</div>"
      ],
      "text/plain": [
       "    ID                      Name Sex  Age  Height  Weight            Team  \\\n",
       "0  1.0                 A Dijiang   M   24   180.0    80.0           China   \n",
       "1  2.0                  A Lamusi   M   23   170.0    60.0           China   \n",
       "2  3.0       Gunnar Nielsen Aaby   M   24     NaN     NaN         Denmark   \n",
       "3  4.0      Edgar Lindenau Aabye   M   34     NaN     NaN  Denmark/Sweden   \n",
       "4  5.0  Christine Jacoba Aaftink   F   21   185.0    82.0     Netherlands   \n",
       "\n",
       "   NOC Origin Country        Games  Year  Season       City          Sport  \\\n",
       "0  CHN          China  1992 Summer  1992  Summer  Barcelona     Basketball   \n",
       "1  CHN          China  2012 Summer  2012  Summer     London           Judo   \n",
       "2  DEN        Denmark  1920 Summer  1920  Summer  Antwerpen       Football   \n",
       "3  DEN        Denmark  1900 Summer  1900  Summer      Paris     Tug-Of-War   \n",
       "4  NED    Netherlands  1988 Winter  1988  Winter    Calgary  Speed Skating   \n",
       "\n",
       "                              Event Medal  Unnamed: 16 Unnamed: 17  \\\n",
       "0       Basketball Men's Basketball   NaN          NaN         NOC   \n",
       "1      Judo Men's Extra-Lightweight   NaN          NaN         AFG   \n",
       "2           Football Men's Football   NaN          NaN         AHO   \n",
       "3       Tug-Of-War Men's Tug-Of-War  Gold          NaN         ALB   \n",
       "4  Speed Skating Women's 500 metres   NaN          NaN         ALG   \n",
       "\n",
       "   Unnamed: 18  \n",
       "0       region  \n",
       "1  Afghanistan  \n",
       "2      Curacao  \n",
       "3      Albania  \n",
       "4      Algeria  "
      ]
     },
     "execution_count": 4,
     "metadata": {},
     "output_type": "execute_result"
    }
   ],
   "source": [
    "oly.head()"
   ]
  },
  {
   "cell_type": "code",
   "execution_count": 5,
   "id": "6469541d",
   "metadata": {},
   "outputs": [],
   "source": [
    "oly.drop('Unnamed: 16', axis=1, inplace=True)"
   ]
  },
  {
   "cell_type": "code",
   "execution_count": 6,
   "id": "41396f08",
   "metadata": {},
   "outputs": [],
   "source": [
    "oly.drop('Unnamed: 17', axis=1, inplace=True)"
   ]
  },
  {
   "cell_type": "code",
   "execution_count": 7,
   "id": "43992936",
   "metadata": {},
   "outputs": [],
   "source": [
    "oly.drop('Unnamed: 18', axis=1, inplace=True)"
   ]
  },
  {
   "cell_type": "code",
   "execution_count": 8,
   "id": "b9e4fcbd",
   "metadata": {},
   "outputs": [
    {
     "data": {
      "text/html": [
       "<div>\n",
       "<style scoped>\n",
       "    .dataframe tbody tr th:only-of-type {\n",
       "        vertical-align: middle;\n",
       "    }\n",
       "\n",
       "    .dataframe tbody tr th {\n",
       "        vertical-align: top;\n",
       "    }\n",
       "\n",
       "    .dataframe thead th {\n",
       "        text-align: right;\n",
       "    }\n",
       "</style>\n",
       "<table border=\"1\" class=\"dataframe\">\n",
       "  <thead>\n",
       "    <tr style=\"text-align: right;\">\n",
       "      <th></th>\n",
       "      <th>ID</th>\n",
       "      <th>Name</th>\n",
       "      <th>Sex</th>\n",
       "      <th>Age</th>\n",
       "      <th>Height</th>\n",
       "      <th>Weight</th>\n",
       "      <th>Team</th>\n",
       "      <th>NOC</th>\n",
       "      <th>Origin Country</th>\n",
       "      <th>Games</th>\n",
       "      <th>Year</th>\n",
       "      <th>Season</th>\n",
       "      <th>City</th>\n",
       "      <th>Sport</th>\n",
       "      <th>Event</th>\n",
       "      <th>Medal</th>\n",
       "    </tr>\n",
       "  </thead>\n",
       "  <tbody>\n",
       "    <tr>\n",
       "      <th>0</th>\n",
       "      <td>1.0</td>\n",
       "      <td>A Dijiang</td>\n",
       "      <td>M</td>\n",
       "      <td>24</td>\n",
       "      <td>180.0</td>\n",
       "      <td>80.0</td>\n",
       "      <td>China</td>\n",
       "      <td>CHN</td>\n",
       "      <td>China</td>\n",
       "      <td>1992 Summer</td>\n",
       "      <td>1992</td>\n",
       "      <td>Summer</td>\n",
       "      <td>Barcelona</td>\n",
       "      <td>Basketball</td>\n",
       "      <td>Basketball Men's Basketball</td>\n",
       "      <td>NaN</td>\n",
       "    </tr>\n",
       "    <tr>\n",
       "      <th>1</th>\n",
       "      <td>2.0</td>\n",
       "      <td>A Lamusi</td>\n",
       "      <td>M</td>\n",
       "      <td>23</td>\n",
       "      <td>170.0</td>\n",
       "      <td>60.0</td>\n",
       "      <td>China</td>\n",
       "      <td>CHN</td>\n",
       "      <td>China</td>\n",
       "      <td>2012 Summer</td>\n",
       "      <td>2012</td>\n",
       "      <td>Summer</td>\n",
       "      <td>London</td>\n",
       "      <td>Judo</td>\n",
       "      <td>Judo Men's Extra-Lightweight</td>\n",
       "      <td>NaN</td>\n",
       "    </tr>\n",
       "    <tr>\n",
       "      <th>2</th>\n",
       "      <td>3.0</td>\n",
       "      <td>Gunnar Nielsen Aaby</td>\n",
       "      <td>M</td>\n",
       "      <td>24</td>\n",
       "      <td>NaN</td>\n",
       "      <td>NaN</td>\n",
       "      <td>Denmark</td>\n",
       "      <td>DEN</td>\n",
       "      <td>Denmark</td>\n",
       "      <td>1920 Summer</td>\n",
       "      <td>1920</td>\n",
       "      <td>Summer</td>\n",
       "      <td>Antwerpen</td>\n",
       "      <td>Football</td>\n",
       "      <td>Football Men's Football</td>\n",
       "      <td>NaN</td>\n",
       "    </tr>\n",
       "    <tr>\n",
       "      <th>3</th>\n",
       "      <td>4.0</td>\n",
       "      <td>Edgar Lindenau Aabye</td>\n",
       "      <td>M</td>\n",
       "      <td>34</td>\n",
       "      <td>NaN</td>\n",
       "      <td>NaN</td>\n",
       "      <td>Denmark/Sweden</td>\n",
       "      <td>DEN</td>\n",
       "      <td>Denmark</td>\n",
       "      <td>1900 Summer</td>\n",
       "      <td>1900</td>\n",
       "      <td>Summer</td>\n",
       "      <td>Paris</td>\n",
       "      <td>Tug-Of-War</td>\n",
       "      <td>Tug-Of-War Men's Tug-Of-War</td>\n",
       "      <td>Gold</td>\n",
       "    </tr>\n",
       "    <tr>\n",
       "      <th>4</th>\n",
       "      <td>5.0</td>\n",
       "      <td>Christine Jacoba Aaftink</td>\n",
       "      <td>F</td>\n",
       "      <td>21</td>\n",
       "      <td>185.0</td>\n",
       "      <td>82.0</td>\n",
       "      <td>Netherlands</td>\n",
       "      <td>NED</td>\n",
       "      <td>Netherlands</td>\n",
       "      <td>1988 Winter</td>\n",
       "      <td>1988</td>\n",
       "      <td>Winter</td>\n",
       "      <td>Calgary</td>\n",
       "      <td>Speed Skating</td>\n",
       "      <td>Speed Skating Women's 500 metres</td>\n",
       "      <td>NaN</td>\n",
       "    </tr>\n",
       "  </tbody>\n",
       "</table>\n",
       "</div>"
      ],
      "text/plain": [
       "    ID                      Name Sex  Age  Height  Weight            Team  \\\n",
       "0  1.0                 A Dijiang   M   24   180.0    80.0           China   \n",
       "1  2.0                  A Lamusi   M   23   170.0    60.0           China   \n",
       "2  3.0       Gunnar Nielsen Aaby   M   24     NaN     NaN         Denmark   \n",
       "3  4.0      Edgar Lindenau Aabye   M   34     NaN     NaN  Denmark/Sweden   \n",
       "4  5.0  Christine Jacoba Aaftink   F   21   185.0    82.0     Netherlands   \n",
       "\n",
       "   NOC Origin Country        Games  Year  Season       City          Sport  \\\n",
       "0  CHN          China  1992 Summer  1992  Summer  Barcelona     Basketball   \n",
       "1  CHN          China  2012 Summer  2012  Summer     London           Judo   \n",
       "2  DEN        Denmark  1920 Summer  1920  Summer  Antwerpen       Football   \n",
       "3  DEN        Denmark  1900 Summer  1900  Summer      Paris     Tug-Of-War   \n",
       "4  NED    Netherlands  1988 Winter  1988  Winter    Calgary  Speed Skating   \n",
       "\n",
       "                              Event Medal  \n",
       "0       Basketball Men's Basketball   NaN  \n",
       "1      Judo Men's Extra-Lightweight   NaN  \n",
       "2           Football Men's Football   NaN  \n",
       "3       Tug-Of-War Men's Tug-Of-War  Gold  \n",
       "4  Speed Skating Women's 500 metres   NaN  "
      ]
     },
     "execution_count": 8,
     "metadata": {},
     "output_type": "execute_result"
    }
   ],
   "source": [
    "oly.head()"
   ]
  },
  {
   "cell_type": "code",
   "execution_count": 9,
   "id": "9a9f4713",
   "metadata": {},
   "outputs": [
    {
     "data": {
      "text/plain": [
       "175"
      ]
     },
     "execution_count": 9,
     "metadata": {},
     "output_type": "execute_result"
    }
   ],
   "source": [
    "int(oly[\"Height\"].mean())"
   ]
  },
  {
   "cell_type": "code",
   "execution_count": 10,
   "id": "4b4d8665",
   "metadata": {},
   "outputs": [],
   "source": [
    "oly[\"Height\"].fillna(int(oly[\"Height\"].mean()), inplace=True)"
   ]
  },
  {
   "cell_type": "code",
   "execution_count": 11,
   "id": "d26942b6",
   "metadata": {},
   "outputs": [
    {
     "data": {
      "text/plain": [
       "70"
      ]
     },
     "execution_count": 11,
     "metadata": {},
     "output_type": "execute_result"
    }
   ],
   "source": [
    "int(oly[\"Weight\"].mean())"
   ]
  },
  {
   "cell_type": "code",
   "execution_count": 12,
   "id": "41d1deed",
   "metadata": {},
   "outputs": [],
   "source": [
    "oly[\"Weight\"].fillna(int(oly[\"Weight\"].mean()), inplace=True)"
   ]
  },
  {
   "cell_type": "code",
   "execution_count": 13,
   "id": "f20e0d2a",
   "metadata": {},
   "outputs": [],
   "source": [
    "oly.dropna(subset=[\"ID\"], inplace=True)\n",
    "oly.dropna(subset=[\"Origin Country\"], inplace=True)"
   ]
  },
  {
   "cell_type": "code",
   "execution_count": 14,
   "id": "304ee140",
   "metadata": {},
   "outputs": [
    {
     "data": {
      "text/plain": [
       "ID                     0\n",
       "Name                   0\n",
       "Sex                    0\n",
       "Age                    0\n",
       "Height                 0\n",
       "Weight                 0\n",
       "Team                   0\n",
       "NOC                    0\n",
       "Origin Country         0\n",
       "Games                  0\n",
       "Year                   0\n",
       "Season                 0\n",
       "City                   0\n",
       "Sport                  0\n",
       "Event                  0\n",
       "Medal             222244\n",
       "dtype: int64"
      ]
     },
     "execution_count": 14,
     "metadata": {},
     "output_type": "execute_result"
    }
   ],
   "source": [
    "oly.isnull().sum()"
   ]
  },
  {
   "cell_type": "code",
   "execution_count": 15,
   "id": "b63f7a8e",
   "metadata": {},
   "outputs": [
    {
     "data": {
      "text/html": [
       "<div>\n",
       "<style scoped>\n",
       "    .dataframe tbody tr th:only-of-type {\n",
       "        vertical-align: middle;\n",
       "    }\n",
       "\n",
       "    .dataframe tbody tr th {\n",
       "        vertical-align: top;\n",
       "    }\n",
       "\n",
       "    .dataframe thead th {\n",
       "        text-align: right;\n",
       "    }\n",
       "</style>\n",
       "<table border=\"1\" class=\"dataframe\">\n",
       "  <thead>\n",
       "    <tr style=\"text-align: right;\">\n",
       "      <th></th>\n",
       "      <th>ID</th>\n",
       "      <th>Age</th>\n",
       "      <th>Height</th>\n",
       "      <th>Weight</th>\n",
       "      <th>Year</th>\n",
       "    </tr>\n",
       "  </thead>\n",
       "  <tbody>\n",
       "    <tr>\n",
       "      <th>count</th>\n",
       "      <td>261285.000000</td>\n",
       "      <td>261285.000000</td>\n",
       "      <td>261285.000000</td>\n",
       "      <td>261285.000000</td>\n",
       "      <td>261285.000000</td>\n",
       "    </tr>\n",
       "    <tr>\n",
       "      <th>mean</th>\n",
       "      <td>68272.258564</td>\n",
       "      <td>25.560009</td>\n",
       "      <td>175.286848</td>\n",
       "      <td>70.570993</td>\n",
       "      <td>1980.082462</td>\n",
       "    </tr>\n",
       "    <tr>\n",
       "      <th>std</th>\n",
       "      <td>38993.050876</td>\n",
       "      <td>6.392587</td>\n",
       "      <td>9.432748</td>\n",
       "      <td>12.788639</td>\n",
       "      <td>28.634825</td>\n",
       "    </tr>\n",
       "    <tr>\n",
       "      <th>min</th>\n",
       "      <td>1.000000</td>\n",
       "      <td>10.000000</td>\n",
       "      <td>127.000000</td>\n",
       "      <td>25.000000</td>\n",
       "      <td>1896.000000</td>\n",
       "    </tr>\n",
       "    <tr>\n",
       "      <th>25%</th>\n",
       "      <td>34736.000000</td>\n",
       "      <td>21.000000</td>\n",
       "      <td>170.000000</td>\n",
       "      <td>63.000000</td>\n",
       "      <td>1964.000000</td>\n",
       "    </tr>\n",
       "    <tr>\n",
       "      <th>50%</th>\n",
       "      <td>68177.000000</td>\n",
       "      <td>24.000000</td>\n",
       "      <td>175.000000</td>\n",
       "      <td>70.000000</td>\n",
       "      <td>1988.000000</td>\n",
       "    </tr>\n",
       "    <tr>\n",
       "      <th>75%</th>\n",
       "      <td>102086.000000</td>\n",
       "      <td>28.000000</td>\n",
       "      <td>180.000000</td>\n",
       "      <td>76.000000</td>\n",
       "      <td>2004.000000</td>\n",
       "    </tr>\n",
       "    <tr>\n",
       "      <th>max</th>\n",
       "      <td>135571.000000</td>\n",
       "      <td>97.000000</td>\n",
       "      <td>226.000000</td>\n",
       "      <td>214.000000</td>\n",
       "      <td>2016.000000</td>\n",
       "    </tr>\n",
       "  </tbody>\n",
       "</table>\n",
       "</div>"
      ],
      "text/plain": [
       "                  ID            Age         Height         Weight  \\\n",
       "count  261285.000000  261285.000000  261285.000000  261285.000000   \n",
       "mean    68272.258564      25.560009     175.286848      70.570993   \n",
       "std     38993.050876       6.392587       9.432748      12.788639   \n",
       "min         1.000000      10.000000     127.000000      25.000000   \n",
       "25%     34736.000000      21.000000     170.000000      63.000000   \n",
       "50%     68177.000000      24.000000     175.000000      70.000000   \n",
       "75%    102086.000000      28.000000     180.000000      76.000000   \n",
       "max    135571.000000      97.000000     226.000000     214.000000   \n",
       "\n",
       "                Year  \n",
       "count  261285.000000  \n",
       "mean     1980.082462  \n",
       "std        28.634825  \n",
       "min      1896.000000  \n",
       "25%      1964.000000  \n",
       "50%      1988.000000  \n",
       "75%      2004.000000  \n",
       "max      2016.000000  "
      ]
     },
     "execution_count": 15,
     "metadata": {},
     "output_type": "execute_result"
    }
   ],
   "source": [
    "oly.describe()"
   ]
  },
  {
   "cell_type": "code",
   "execution_count": 16,
   "id": "4bb83c59",
   "metadata": {},
   "outputs": [
    {
     "name": "stdout",
     "output_type": "stream",
     "text": [
      "<class 'pandas.core.frame.DataFrame'>\n",
      "Int64Index: 261285 entries, 0 to 261641\n",
      "Data columns (total 16 columns):\n",
      " #   Column          Non-Null Count   Dtype  \n",
      "---  ------          --------------   -----  \n",
      " 0   ID              261285 non-null  float64\n",
      " 1   Name            261285 non-null  object \n",
      " 2   Sex             261285 non-null  object \n",
      " 3   Age             261285 non-null  int64  \n",
      " 4   Height          261285 non-null  float64\n",
      " 5   Weight          261285 non-null  float64\n",
      " 6   Team            261285 non-null  object \n",
      " 7   NOC             261285 non-null  object \n",
      " 8   Origin Country  261285 non-null  object \n",
      " 9   Games           261285 non-null  object \n",
      " 10  Year            261285 non-null  int64  \n",
      " 11  Season          261285 non-null  object \n",
      " 12  City            261285 non-null  object \n",
      " 13  Sport           261285 non-null  object \n",
      " 14  Event           261285 non-null  object \n",
      " 15  Medal           39041 non-null   object \n",
      "dtypes: float64(3), int64(2), object(11)\n",
      "memory usage: 33.9+ MB\n"
     ]
    }
   ],
   "source": [
    "oly.info()"
   ]
  },
  {
   "cell_type": "code",
   "execution_count": 17,
   "id": "c3b19b55",
   "metadata": {},
   "outputs": [
    {
     "data": {
      "text/plain": [
       "(261285, 16)"
      ]
     },
     "execution_count": 17,
     "metadata": {},
     "output_type": "execute_result"
    }
   ],
   "source": [
    "oly.shape"
   ]
  },
  {
   "cell_type": "code",
   "execution_count": 18,
   "id": "89ccbd1f",
   "metadata": {},
   "outputs": [
    {
     "data": {
      "text/plain": [
       "Gold      13223\n",
       "Bronze    13002\n",
       "Silver    12816\n",
       "Name: Medal, dtype: int64"
      ]
     },
     "execution_count": 18,
     "metadata": {},
     "output_type": "execute_result"
    }
   ],
   "source": [
    "oly.Medal.value_counts()"
   ]
  },
  {
   "cell_type": "code",
   "execution_count": 19,
   "id": "daf78d5a",
   "metadata": {},
   "outputs": [
    {
     "data": {
      "text/plain": [
       "M    187323\n",
       "F     73962\n",
       "Name: Sex, dtype: int64"
      ]
     },
     "execution_count": 19,
     "metadata": {},
     "output_type": "execute_result"
    }
   ],
   "source": [
    "oly.Sex.value_counts()"
   ]
  },
  {
   "cell_type": "code",
   "execution_count": 20,
   "id": "589fac21",
   "metadata": {},
   "outputs": [
    {
     "data": {
      "text/plain": [
       "Summer    213006\n",
       "Winter     48279\n",
       "Name: Season, dtype: int64"
      ]
     },
     "execution_count": 20,
     "metadata": {},
     "output_type": "execute_result"
    }
   ],
   "source": [
    "oly.Season.value_counts()"
   ]
  },
  {
   "cell_type": "code",
   "execution_count": 21,
   "id": "c5c5da94",
   "metadata": {},
   "outputs": [
    {
     "data": {
      "text/plain": [
       "Athletics        37467\n",
       "Gymnastics       25524\n",
       "Swimming         22524\n",
       "Shooting         10611\n",
       "Cycling          10181\n",
       "                 ...  \n",
       "Racquets            12\n",
       "Jeu De Paume        11\n",
       "Roque                3\n",
       "Basque Pelota        2\n",
       "Aeronautics          1\n",
       "Name: Sport, Length: 66, dtype: int64"
      ]
     },
     "execution_count": 21,
     "metadata": {},
     "output_type": "execute_result"
    }
   ],
   "source": [
    "oly.Sport.value_counts()"
   ]
  },
  {
   "cell_type": "code",
   "execution_count": 22,
   "id": "1a9df6d9",
   "metadata": {},
   "outputs": [
    {
     "data": {
      "text/plain": [
       "London                    20565\n",
       "Athens                    14625\n",
       "Sydney                    13797\n",
       "Atlanta                   13737\n",
       "Rio de Janeiro            13643\n",
       "Beijing                   13561\n",
       "Barcelona                 12897\n",
       "Seoul                     11904\n",
       "Los Angeles               11897\n",
       "Munich                    10199\n",
       "Montreal                   8596\n",
       "Mexico City                8483\n",
       "Helsinki                   7988\n",
       "Roma                       7901\n",
       "Tokyo                      7659\n",
       "Moskva                     7005\n",
       "Berlin                     6304\n",
       "Paris                      5294\n",
       "Sochi                      4891\n",
       "Vancouver                  4402\n",
       "Torino                     4382\n",
       "Melbourne                  4214\n",
       "Stockholm                  4142\n",
       "Amsterdam                  4119\n",
       "Salt Lake City             4109\n",
       "Innsbruck                  3615\n",
       "Nagano                     3603\n",
       "Antwerpen                  3447\n",
       "Albertville                3435\n",
       "Lillehammer                3158\n",
       "Calgary                    2635\n",
       "Sarajevo                   2123\n",
       "Lake Placid                2074\n",
       "Grenoble                   1872\n",
       "Sapporo                    1652\n",
       "Sankt Moritz               1563\n",
       "Cortina d'Ampezzo          1282\n",
       "Squaw Valley               1108\n",
       "Oslo                       1088\n",
       "St. Louis                  1027\n",
       "Garmisch-Partenkirchen      884\n",
       "Chamonix                    403\n",
       "Athina                        2\n",
       "Name: City, dtype: int64"
      ]
     },
     "execution_count": 22,
     "metadata": {},
     "output_type": "execute_result"
    }
   ],
   "source": [
    "oly.City.value_counts()"
   ]
  },
  {
   "cell_type": "code",
   "execution_count": 23,
   "id": "91451eb1",
   "metadata": {},
   "outputs": [
    {
     "name": "stdout",
     "output_type": "stream",
     "text": [
      "The Max height is: 226.0 cm\n",
      "The Min height is: 127.0 cm\n",
      "The Max weight is: 214.0 kg\n",
      "The Max weight is: 25.0 kg\n"
     ]
    }
   ],
   "source": [
    "print(\"The Max height is:\", oly.Height.max(),\"cm\")\n",
    "print(\"The Min height is:\", oly.Height.min(),\"cm\")\n",
    "print(\"The Max weight is:\", oly.Weight.max(),\"kg\")\n",
    "print(\"The Max weight is:\", oly.Weight.min(),\"kg\")"
   ]
  },
  {
   "cell_type": "code",
   "execution_count": 24,
   "id": "8bbced50",
   "metadata": {},
   "outputs": [],
   "source": [
    "oly.to_excel(\"OlymData#.xlsx\")"
   ]
  },
  {
   "cell_type": "code",
   "execution_count": null,
   "id": "e0cdbd26",
   "metadata": {},
   "outputs": [],
   "source": []
  },
  {
   "cell_type": "code",
   "execution_count": null,
   "id": "dd421d34",
   "metadata": {},
   "outputs": [],
   "source": []
  },
  {
   "cell_type": "code",
   "execution_count": null,
   "id": "149e1e64",
   "metadata": {},
   "outputs": [],
   "source": []
  },
  {
   "cell_type": "code",
   "execution_count": null,
   "id": "f1846e31",
   "metadata": {},
   "outputs": [],
   "source": []
  },
  {
   "cell_type": "code",
   "execution_count": null,
   "id": "27fc3004",
   "metadata": {},
   "outputs": [],
   "source": [
    "import numpy as np\n",
    "nd= np.random.normal(loc=5,scale=3.0,size=1000)\n",
    "plt.hist(nd)\n",
    "\n",
    "plt.show()"
   ]
  },
  {
   "cell_type": "code",
   "execution_count": null,
   "id": "1e08776a",
   "metadata": {},
   "outputs": [],
   "source": [
    "x=np.array([30,25,10,15])\n",
    "print(\"Mean of x =\",x.mean())\n",
    "plt.pie(x)\n",
    "plt.show()"
   ]
  },
  {
   "cell_type": "code",
   "execution_count": null,
   "id": "990fc2b7",
   "metadata": {},
   "outputs": [],
   "source": []
  }
 ],
 "metadata": {
  "kernelspec": {
   "display_name": "Python 3 (ipykernel)",
   "language": "python",
   "name": "python3"
  },
  "language_info": {
   "codemirror_mode": {
    "name": "ipython",
    "version": 3
   },
   "file_extension": ".py",
   "mimetype": "text/x-python",
   "name": "python",
   "nbconvert_exporter": "python",
   "pygments_lexer": "ipython3",
   "version": "3.9.12"
  }
 },
 "nbformat": 4,
 "nbformat_minor": 5
}
