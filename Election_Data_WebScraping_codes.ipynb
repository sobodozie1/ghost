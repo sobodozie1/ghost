{
 "cells": [
  {
   "cell_type": "markdown",
   "id": "206a1959",
   "metadata": {},
   "source": [
    "# 2023 National Polls From Stears.co"
   ]
  },
  {
   "cell_type": "code",
   "execution_count": null,
   "id": "daf246a2",
   "metadata": {},
   "outputs": [],
   "source": [
    "import pandas as pd\n",
    "import requests as r\n",
    "from bs4 import BeautifulSoup as bs"
   ]
  },
  {
   "cell_type": "code",
   "execution_count": 1,
   "id": "34b0b182",
   "metadata": {},
   "outputs": [],
   "source": [
    "st = ['AB','AD','AK','AN','BA','BY','BE','BO','CR','DE','EB','ED','EK','EN','GO','IM','JI','KD','KN','KT','KE','KO','KW','LA','NA','NI','OG','ON','OS','OY','PL','RI','SO','TA','YO','ZA','FCT']"
   ]
  },
  {
   "cell_type": "code",
   "execution_count": 227,
   "id": "e0aa645f",
   "metadata": {},
   "outputs": [],
   "source": [
    "state_list =[]\n",
    "lga_list =[]\n",
    "candidate_list =[]\n",
    "party_list =[]\n",
    "votes_list =[]\n",
    "\n",
    "\n",
    "for state in st:\n",
    "        poll=pd.DataFrame(columns=[\"STATE\",\"LGA\",\"CANDIDATE\", \"PARTY\", \"VOTES\"])\n",
    "        \n",
    "        url = f'https://www.stears.co/elections/2023/president/{state}/'\n",
    "        data = r.get(url).text\n",
    "        soup = bs(data,\"html.parser\")\n",
    "        votes = soup.select(\".mx-2.text-sm.text-gray-600\")\n",
    "        candidate_no = 18\n",
    "        \n",
    "        #Name of State\n",
    "        for n in range(len(votes)):\n",
    "            state_name = soup.select_one(\".font-jakarta.font-jakarta.text-p_15_15.font-light.text-gray-800.whitespace-nowrap\").text\n",
    "            state_list.append(state_name)\n",
    "        sl = pd.Series(state_list)\n",
    "        poll['STATE'] = sl.values\n",
    "        \n",
    "        \n",
    "        \n",
    "        #Name of LGA\n",
    "        lga = soup.select(\".font-jakarta.font-jakarta.text-p_20.font-medium.-md\\:hidden.mt-10.capitalize\")\n",
    "        for i in lga:\n",
    "            for x in range(candidate_no):\n",
    "                lga_list.append(i.text)\n",
    "        ll = pd.Series(lga_list)\n",
    "        poll['LGA'] = ll.values\n",
    "        \n",
    "        #Name of Candidate\n",
    "        candidate = soup.select(\".font-medium.mr-2.-ml-2\")\n",
    "        for i in candidate:\n",
    "            candidate_list.append(i.text)\n",
    "        cl =pd.Series(candidate_list)\n",
    "        poll['CANDIDATE'] = cl.values\n",
    "        \n",
    "        #Name of Party\n",
    "        party = soup.select(\".px-2.py-2.whitespace-nowrap.text-gray-600.text-center.text-sm>span\")\n",
    "        for i in party:\n",
    "            party_list.append(i.text)\n",
    "        pl =pd.Series(party_list)\n",
    "        poll['PARTY'] = pl.values\n",
    "        \n",
    "            \n",
    "        #Number of Votes\n",
    "        votes = soup.select(\".mx-2.text-sm.text-gray-600\")\n",
    "        for i in votes:\n",
    "            votes_list.append(i.text)\n",
    "        vl =pd.Series(votes_list)\n",
    "        poll['VOTES'] = vl.values\n",
    "        \n",
    "        \n",
    "        "
   ]
  },
  {
   "cell_type": "code",
   "execution_count": 228,
   "id": "d3c2a552",
   "metadata": {},
   "outputs": [
    {
     "name": "stdout",
     "output_type": "stream",
     "text": [
      "                                 STATE        LGA  \\\n",
      "0                                 Abia  Aba North   \n",
      "1                                 Abia  Aba North   \n",
      "2                                 Abia  Aba North   \n",
      "3                                 Abia  Aba North   \n",
      "4                                 Abia  Aba North   \n",
      "...                                ...        ...   \n",
      "13927  Federal Capital Territory (FCT)  Municipal   \n",
      "13928  Federal Capital Territory (FCT)  Municipal   \n",
      "13929  Federal Capital Territory (FCT)  Municipal   \n",
      "13930  Federal Capital Territory (FCT)  Municipal   \n",
      "13931  Federal Capital Territory (FCT)  Municipal   \n",
      "\n",
      "                           CANDIDATE PARTY   VOTES  \n",
      "0                  Tinubu Bola Ahmed   APC     190  \n",
      "1                     Abubakar Atiku   PDP     428  \n",
      "2                  Obi Peter Gregory    LP  35,898  \n",
      "3      Musa Mohammed Rabiu Kwankwaso  NNPP      94  \n",
      "4                    Kachikwu Dumebi   ADC      18  \n",
      "...                              ...   ...     ...  \n",
      "13927           Osakwe Felix Johnson   NRM          \n",
      "13928         Abiola Latifu Kolawole   PRP          \n",
      "13929       Adebayo Adewole Ebenezer   SDP          \n",
      "13930         Ado-Ibrahim Abdulmalik   YPP          \n",
      "13931  Nwanyanwu Daniel Daberechukwu   ZLP          \n",
      "\n",
      "[13932 rows x 5 columns]\n"
     ]
    }
   ],
   "source": [
    "print(poll)"
   ]
  },
  {
   "cell_type": "code",
   "execution_count": 229,
   "id": "be5f2ae8",
   "metadata": {},
   "outputs": [],
   "source": [
    "poll.to_csv(\"2023_poll_data.csv\")"
   ]
  },
  {
   "cell_type": "markdown",
   "id": "f5fb02a2",
   "metadata": {},
   "source": [
    "Original coder: Chris Okoro</p>\n",
    "Alteration: Sochi Obodozie"
   ]
  }
 ],
 "metadata": {
  "kernelspec": {
   "display_name": "Python 3 (ipykernel)",
   "language": "python",
   "name": "python3"
  },
  "language_info": {
   "codemirror_mode": {
    "name": "ipython",
    "version": 3
   },
   "file_extension": ".py",
   "mimetype": "text/x-python",
   "name": "python",
   "nbconvert_exporter": "python",
   "pygments_lexer": "ipython3",
   "version": "3.9.12"
  }
 },
 "nbformat": 4,
 "nbformat_minor": 5
}
